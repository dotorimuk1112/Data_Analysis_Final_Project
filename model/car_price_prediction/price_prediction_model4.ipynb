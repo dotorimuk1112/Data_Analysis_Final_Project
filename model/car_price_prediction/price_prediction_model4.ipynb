{
 "cells": [
  {
   "cell_type": "code",
   "execution_count": 1,
   "metadata": {},
   "outputs": [],
   "source": [
    "import pandas as pd"
   ]
  },
  {
   "cell_type": "code",
   "execution_count": 2,
   "metadata": {},
   "outputs": [],
   "source": [
    "df = pd.read_csv('C:\\\\Users\\\\CHK\\\\Desktop\\\\Final_Project\\\\data\\\\KB_Crawl_data_10000.csv')"
   ]
  },
  {
   "cell_type": "markdown",
   "metadata": {},
   "source": [
    "# 1. 데이터 전처리"
   ]
  },
  {
   "cell_type": "markdown",
   "metadata": {},
   "source": [
    "1) Null값 삭제"
   ]
  },
  {
   "cell_type": "code",
   "execution_count": 42,
   "metadata": {},
   "outputs": [
    {
     "data": {
      "text/plain": [
       "array(['대형', 'SUV', '트럭', '경차', '승합', '소형', '준중형', '중형', '스포츠카', '버스',\n",
       "       'RV', '특수', 0], dtype=object)"
      ]
     },
     "execution_count": 42,
     "metadata": {},
     "output_type": "execute_result"
    }
   ],
   "source": [
    "df['VTYPE'].unique()"
   ]
  },
  {
   "cell_type": "code",
   "execution_count": 5,
   "metadata": {},
   "outputs": [],
   "source": [
    "domestic_cars = ['기아', '현대', 'KG모빌리티', '르노코리아', '쉐보레', 'GM대우', '제네시스', '르노삼성', '대우', '쌍용', '기타', '한국GM']\n",
    "foreign_cars = ['폭스바겐', '벤츠', '링컨', '지프', '미니', 'BMW', '혼다', '닷지', '아우디', '볼보',\n",
    "                '사브', '포드', '닛산', '스즈키', '렉서스', '랜드로버', '기타', '미쓰비시', '쉐보레', '푸조',\n",
    "                '토요타', '재규어', '캐딜락', '포르쉐', '인피니티', '마세라티', '알파로메오', '크라이슬러',\n",
    "                '마쯔다', '허머', '벤틀리', '롤스로이스', '스마트', '미쯔오카', '테슬라', '마이바흐', '이베코',\n",
    "                'GMC', '람보르기니', '페라리', '도요타', '애스턴마틴', '피아트', '맥라렌', 'DS', '알핀',\n",
    "                '시트로엥', '모건', '뷰익', '로버', '다이하쓰', '동풍소콘', '로터스', '부가티', '미쯔비시']"
   ]
  },
  {
   "cell_type": "code",
   "execution_count": 15,
   "metadata": {},
   "outputs": [
    {
     "name": "stderr",
     "output_type": "stream",
     "text": [
      "C:\\Users\\CHK\\AppData\\Local\\Temp\\ipykernel_3608\\761284.py:20: FutureWarning: Downcasting behavior in `replace` is deprecated and will be removed in a future version. To retain the old behavior, explicitly call `result.infer_objects(copy=False)`. To opt-in to the future behavior, set `pd.set_option('future.no_silent_downcasting', True)`\n",
      "  df['CU_HIS'] = df['CU_HIS'].replace('있음', True).replace(0, False)\n"
     ]
    },
    {
     "data": {
      "text/html": [
       "<div>\n",
       "<style scoped>\n",
       "    .dataframe tbody tr th:only-of-type {\n",
       "        vertical-align: middle;\n",
       "    }\n",
       "\n",
       "    .dataframe tbody tr th {\n",
       "        vertical-align: top;\n",
       "    }\n",
       "\n",
       "    .dataframe thead th {\n",
       "        text-align: right;\n",
       "    }\n",
       "</style>\n",
       "<table border=\"1\" class=\"dataframe\">\n",
       "  <thead>\n",
       "    <tr style=\"text-align: right;\">\n",
       "      <th></th>\n",
       "      <th>SEQ</th>\n",
       "      <th>MNAME</th>\n",
       "      <th>PRICE</th>\n",
       "      <th>MYERAR</th>\n",
       "      <th>MILEAGE</th>\n",
       "      <th>DISP</th>\n",
       "      <th>VTYPE</th>\n",
       "      <th>CU_HIS</th>\n",
       "      <th>MVD_HIS</th>\n",
       "      <th>AVD_HIS</th>\n",
       "      <th>FD_HIS</th>\n",
       "      <th>VT_HIS</th>\n",
       "      <th>US_HIS</th>\n",
       "      <th>MANUF</th>\n",
       "    </tr>\n",
       "  </thead>\n",
       "  <tbody>\n",
       "    <tr>\n",
       "      <th>0</th>\n",
       "      <td>1</td>\n",
       "      <td>기아 오피러스 프리미엄 GH270 스페셜 럭셔리</td>\n",
       "      <td>580</td>\n",
       "      <td>16</td>\n",
       "      <td>94800</td>\n",
       "      <td>2700</td>\n",
       "      <td>대형</td>\n",
       "      <td>False</td>\n",
       "      <td>0</td>\n",
       "      <td>0</td>\n",
       "      <td>0</td>\n",
       "      <td>0</td>\n",
       "      <td>3</td>\n",
       "      <td>국산</td>\n",
       "    </tr>\n",
       "    <tr>\n",
       "      <th>1</th>\n",
       "      <td>2</td>\n",
       "      <td>링컨 뉴 MKX 2.7 리저브</td>\n",
       "      <td>2250</td>\n",
       "      <td>8</td>\n",
       "      <td>68000</td>\n",
       "      <td>2694</td>\n",
       "      <td>SUV</td>\n",
       "      <td>False</td>\n",
       "      <td>0</td>\n",
       "      <td>0</td>\n",
       "      <td>0</td>\n",
       "      <td>0</td>\n",
       "      <td>0</td>\n",
       "      <td>외제</td>\n",
       "    </tr>\n",
       "    <tr>\n",
       "      <th>2</th>\n",
       "      <td>3</td>\n",
       "      <td>현대 제네시스 BH380 ROYAL VIP팩</td>\n",
       "      <td>730</td>\n",
       "      <td>17</td>\n",
       "      <td>179000</td>\n",
       "      <td>3778</td>\n",
       "      <td>대형</td>\n",
       "      <td>False</td>\n",
       "      <td>0</td>\n",
       "      <td>0</td>\n",
       "      <td>0</td>\n",
       "      <td>0</td>\n",
       "      <td>4</td>\n",
       "      <td>국산</td>\n",
       "    </tr>\n",
       "    <tr>\n",
       "      <th>3</th>\n",
       "      <td>4</td>\n",
       "      <td>현대 제네시스 BH330 LUXURY 기본형</td>\n",
       "      <td>850</td>\n",
       "      <td>14</td>\n",
       "      <td>178000</td>\n",
       "      <td>3342</td>\n",
       "      <td>대형</td>\n",
       "      <td>False</td>\n",
       "      <td>0</td>\n",
       "      <td>0</td>\n",
       "      <td>0</td>\n",
       "      <td>0</td>\n",
       "      <td>2</td>\n",
       "      <td>국산</td>\n",
       "    </tr>\n",
       "    <tr>\n",
       "      <th>4</th>\n",
       "      <td>5</td>\n",
       "      <td>현대 포터2 카고</td>\n",
       "      <td>650</td>\n",
       "      <td>9</td>\n",
       "      <td>188051</td>\n",
       "      <td>0</td>\n",
       "      <td>트럭</td>\n",
       "      <td>False</td>\n",
       "      <td>0</td>\n",
       "      <td>0</td>\n",
       "      <td>0</td>\n",
       "      <td>0</td>\n",
       "      <td>1</td>\n",
       "      <td>국산</td>\n",
       "    </tr>\n",
       "    <tr>\n",
       "      <th>...</th>\n",
       "      <td>...</td>\n",
       "      <td>...</td>\n",
       "      <td>...</td>\n",
       "      <td>...</td>\n",
       "      <td>...</td>\n",
       "      <td>...</td>\n",
       "      <td>...</td>\n",
       "      <td>...</td>\n",
       "      <td>...</td>\n",
       "      <td>...</td>\n",
       "      <td>...</td>\n",
       "      <td>...</td>\n",
       "      <td>...</td>\n",
       "      <td>...</td>\n",
       "    </tr>\n",
       "    <tr>\n",
       "      <th>9995</th>\n",
       "      <td>9996</td>\n",
       "      <td>미니 쿠퍼 S 2.0 기본형</td>\n",
       "      <td>1640</td>\n",
       "      <td>6</td>\n",
       "      <td>99432</td>\n",
       "      <td>1998</td>\n",
       "      <td>소형</td>\n",
       "      <td>False</td>\n",
       "      <td>0</td>\n",
       "      <td>0</td>\n",
       "      <td>0</td>\n",
       "      <td>0</td>\n",
       "      <td>3</td>\n",
       "      <td>외제</td>\n",
       "    </tr>\n",
       "    <tr>\n",
       "      <th>9996</th>\n",
       "      <td>9997</td>\n",
       "      <td>미니 뉴 컨트리맨 (F60) 2.0 Cooper JCW All4 기본형</td>\n",
       "      <td>2370</td>\n",
       "      <td>6</td>\n",
       "      <td>69544</td>\n",
       "      <td>1998</td>\n",
       "      <td>소형</td>\n",
       "      <td>False</td>\n",
       "      <td>0</td>\n",
       "      <td>0</td>\n",
       "      <td>0</td>\n",
       "      <td>0</td>\n",
       "      <td>4</td>\n",
       "      <td>외제</td>\n",
       "    </tr>\n",
       "    <tr>\n",
       "      <th>9997</th>\n",
       "      <td>9998</td>\n",
       "      <td>한국GM 쉐보레 볼트 1.5</td>\n",
       "      <td>1390</td>\n",
       "      <td>7</td>\n",
       "      <td>131512</td>\n",
       "      <td>1490</td>\n",
       "      <td>소형</td>\n",
       "      <td>False</td>\n",
       "      <td>0</td>\n",
       "      <td>0</td>\n",
       "      <td>0</td>\n",
       "      <td>0</td>\n",
       "      <td>3</td>\n",
       "      <td>국산</td>\n",
       "    </tr>\n",
       "    <tr>\n",
       "      <th>9998</th>\n",
       "      <td>9999</td>\n",
       "      <td>기아 쏘울 1.6 스마트 기본형</td>\n",
       "      <td>560</td>\n",
       "      <td>15</td>\n",
       "      <td>113517</td>\n",
       "      <td>1591</td>\n",
       "      <td>준중형</td>\n",
       "      <td>False</td>\n",
       "      <td>0</td>\n",
       "      <td>0</td>\n",
       "      <td>0</td>\n",
       "      <td>0</td>\n",
       "      <td>8</td>\n",
       "      <td>국산</td>\n",
       "    </tr>\n",
       "    <tr>\n",
       "      <th>9999</th>\n",
       "      <td>10000</td>\n",
       "      <td>현대 올 뉴 아반떼(CN7) 1.6 가솔린 모던</td>\n",
       "      <td>1850</td>\n",
       "      <td>5</td>\n",
       "      <td>31502</td>\n",
       "      <td>0</td>\n",
       "      <td>소형</td>\n",
       "      <td>False</td>\n",
       "      <td>0</td>\n",
       "      <td>0</td>\n",
       "      <td>0</td>\n",
       "      <td>0</td>\n",
       "      <td>0</td>\n",
       "      <td>국산</td>\n",
       "    </tr>\n",
       "  </tbody>\n",
       "</table>\n",
       "<p>9965 rows × 14 columns</p>\n",
       "</div>"
      ],
      "text/plain": [
       "        SEQ                                    MNAME PRICE  MYERAR MILEAGE  \\\n",
       "0         1               기아 오피러스 프리미엄 GH270 스페셜 럭셔리   580      16   94800   \n",
       "1         2                         링컨 뉴 MKX 2.7 리저브  2250       8   68000   \n",
       "2         3                 현대 제네시스 BH380 ROYAL VIP팩   730      17  179000   \n",
       "3         4                 현대 제네시스 BH330 LUXURY 기본형   850      14  178000   \n",
       "4         5                                현대 포터2 카고   650       9  188051   \n",
       "...     ...                                      ...   ...     ...     ...   \n",
       "9995   9996                          미니 쿠퍼 S 2.0 기본형  1640       6   99432   \n",
       "9996   9997  미니 뉴 컨트리맨 (F60) 2.0 Cooper JCW All4 기본형  2370       6   69544   \n",
       "9997   9998                          한국GM 쉐보레 볼트 1.5  1390       7  131512   \n",
       "9998   9999                        기아 쏘울 1.6 스마트 기본형   560      15  113517   \n",
       "9999  10000               현대 올 뉴 아반떼(CN7) 1.6 가솔린 모던  1850       5   31502   \n",
       "\n",
       "      DISP VTYPE  CU_HIS  MVD_HIS  AVD_HIS  FD_HIS  VT_HIS  US_HIS MANUF  \n",
       "0     2700    대형   False        0        0       0       0       3    국산  \n",
       "1     2694   SUV   False        0        0       0       0       0    외제  \n",
       "2     3778    대형   False        0        0       0       0       4    국산  \n",
       "3     3342    대형   False        0        0       0       0       2    국산  \n",
       "4        0    트럭   False        0        0       0       0       1    국산  \n",
       "...    ...   ...     ...      ...      ...     ...     ...     ...   ...  \n",
       "9995  1998    소형   False        0        0       0       0       3    외제  \n",
       "9996  1998    소형   False        0        0       0       0       4    외제  \n",
       "9997  1490    소형   False        0        0       0       0       3    국산  \n",
       "9998  1591   준중형   False        0        0       0       0       8    국산  \n",
       "9999     0    소형   False        0        0       0       0       0    국산  \n",
       "\n",
       "[9965 rows x 14 columns]"
      ]
     },
     "execution_count": 15,
     "metadata": {},
     "output_type": "execute_result"
    }
   ],
   "source": [
    "import pandas as pd\n",
    "df = pd.read_csv('C:\\\\Users\\\\CHK\\\\Desktop\\\\Final_Project\\\\data\\\\KB_Crawl_data_10000.csv')\n",
    "\n",
    "df.replace('없음', 0, inplace=True)\n",
    "df.dropna(subset=['MNAME', 'VTYPE', 'PRICE'], inplace=True)\n",
    "df.fillna(0, inplace=True)\n",
    "\n",
    "df['US_HIS'] = df['US_HIS'].str.replace('회', '').astype(float)\n",
    "df['FD_HIS'] = df['FD_HIS'].str.replace('회', '').astype(float)\n",
    "df.fillna(0, inplace=True)\n",
    "df['MILEAGE'] = df['MILEAGE'].str.replace('km', '').str.replace(',', '')\n",
    "df['PRICE'] = df['PRICE'].str.replace('만원', '').str.replace(',', '')\n",
    "df['DISP'] = df['DISP'].str.replace('cc', '').str.replace(',', '')\n",
    "df['TRANS'] = df['TRANS'].str.replace('cc', '').str.replace(',', '')\n",
    "df['MNAME'] = df['MNAME'].str.replace('실차주', '').str.replace('직거래', '')\n",
    "df['MNAME'] = df['MNAME'].apply(lambda x: x.strip() if isinstance(x, str) else x)\n",
    "df['MYERAR'] = df['MYERAR'].apply(lambda x: '19' + x[:2] if int(x[:2]) > 24 else '20' + x[:2])\n",
    "df['MYERAR'] = df['MYERAR'].astype(int)\n",
    "df['MYERAR'] = 2024 - df['MYERAR'] + 1\n",
    "df['CU_HIS'] = df['CU_HIS'].replace('있음', True).replace(0, False)\n",
    "\n",
    "\n",
    "# 'MANUF' 열 값 변경\n",
    "df.loc[df['MNAME'].str.split().str[0].isin(foreign_cars), 'MANUF'] = '외제'\n",
    "df.loc[df['MNAME'].str.split().str[0].isin(domestic_cars), 'MANUF'] = '국산'\n",
    "\n",
    "# dummy_vtype1 = pd.get_dummies(df['TRANS'], prefix='TRANS')\n",
    "# dummy_vtype2 = pd.get_dummies(df['F_TYPE'], prefix='F_TYPE')\n",
    "# dummy_vtype3 = pd.get_dummies(df['COLOR'], prefix='COLOR')\n",
    "# dummy_vtype4 = pd.get_dummies(df['MANUF'], prefix='MANUF')\n",
    "# dummy_vtype2 = pd.get_dummies(df['F_TYPE'], prefix='F_TYPE')\n",
    "\n",
    "# df = pd.concat([df, dummy_vtype1], axis=1)\n",
    "# df = pd.concat([df, dummy_vtype2], axis=1)\n",
    "# df = pd.concat([df, dummy_vtype3], axis=1)\n",
    "# df = pd.concat([df, dummy_vtype4], axis=1)\n",
    "\n",
    "# 해당 컬럼들의 데이터 타입을 int로 변환합니다.\n",
    "columns_to_convert = ['MVD_HIS', 'AVD_HIS', 'FD_HIS', 'VT_HIS', 'US_HIS']\n",
    "df[columns_to_convert] = df[columns_to_convert].astype(int)\n",
    "\n",
    "\n",
    "df.drop(columns=['TRANS', 'F_TYPE', 'VNUM', 'LINK', 'COLOR',\n",
    "       'Unnamed: 18', 'Unnamed: 19', 'Unnamed: 20', 'Unnamed: 21'], inplace=True)\n",
    "       \n",
    "df"
   ]
  },
  {
   "cell_type": "code",
   "execution_count": 16,
   "metadata": {},
   "outputs": [],
   "source": [
    "df2 = df[df['MANUF'] == '국산']"
   ]
  },
  {
   "cell_type": "code",
   "execution_count": 17,
   "metadata": {},
   "outputs": [
    {
     "data": {
      "text/plain": [
       "SEQ         int64\n",
       "MNAME      object\n",
       "PRICE      object\n",
       "MYERAR      int32\n",
       "MILEAGE    object\n",
       "DISP       object\n",
       "VTYPE      object\n",
       "CU_HIS       bool\n",
       "MVD_HIS     int32\n",
       "AVD_HIS     int32\n",
       "FD_HIS      int32\n",
       "VT_HIS      int32\n",
       "US_HIS      int32\n",
       "MANUF      object\n",
       "dtype: object"
      ]
     },
     "execution_count": 17,
     "metadata": {},
     "output_type": "execute_result"
    }
   ],
   "source": [
    "df2.dtypes"
   ]
  },
  {
   "cell_type": "code",
   "execution_count": 18,
   "metadata": {},
   "outputs": [],
   "source": [
    "df2.to_csv('pre-processed data.csv')"
   ]
  },
  {
   "cell_type": "markdown",
   "metadata": {},
   "source": [
    "2. VTYPE별로 df 분할"
   ]
  },
  {
   "cell_type": "code",
   "execution_count": 19,
   "metadata": {},
   "outputs": [
    {
     "data": {
      "text/plain": [
       "Index(['SEQ', 'MNAME', 'PRICE', 'MYERAR', 'MILEAGE', 'DISP', 'VTYPE', 'CU_HIS',\n",
       "       'MVD_HIS', 'AVD_HIS', 'FD_HIS', 'VT_HIS', 'US_HIS', 'MANUF'],\n",
       "      dtype='object')"
      ]
     },
     "execution_count": 19,
     "metadata": {},
     "output_type": "execute_result"
    }
   ],
   "source": [
    "processed_df = pd.read_csv('pre-processed data.csv')\n",
    "processed_df.drop(columns='Unnamed: 0', inplace=True)\n",
    "processed_df.columns"
   ]
  },
  {
   "cell_type": "code",
   "execution_count": 20,
   "metadata": {},
   "outputs": [],
   "source": [
    "for vtype in processed_df['VTYPE'].unique():\n",
    "    globals()[vtype] = processed_df[processed_df['VTYPE'] == vtype]"
   ]
  },
  {
   "cell_type": "code",
   "execution_count": 21,
   "metadata": {},
   "outputs": [
    {
     "data": {
      "text/plain": [
       "array(['대형', 'SUV', '트럭', '경차', '승합', '소형', '준중형', '중형', '스포츠카', '버스',\n",
       "       'RV', '특수'], dtype=object)"
      ]
     },
     "execution_count": 21,
     "metadata": {},
     "output_type": "execute_result"
    }
   ],
   "source": [
    "df['VTYPE'].unique()"
   ]
  },
  {
   "cell_type": "code",
   "execution_count": 22,
   "metadata": {},
   "outputs": [
    {
     "data": {
      "text/plain": [
       "{'대형': 1632,\n",
       " 'SUV': 2125,\n",
       " '트럭': 936,\n",
       " '경차': 541,\n",
       " '승합': 350,\n",
       " '소형': 112,\n",
       " '준중형': 563,\n",
       " '중형': 1084,\n",
       " '스포츠카': 9,\n",
       " '버스': 10,\n",
       " 'RV': 575,\n",
       " '특수': 6}"
      ]
     },
     "execution_count": 22,
     "metadata": {},
     "output_type": "execute_result"
    }
   ],
   "source": [
    "len_dic = {'대형': len(대형), 'SUV': len(SUV), '트럭': len(트럭), '경차': len(경차), '승합': len(승합), \n",
    "           '소형': len(소형), '준중형': len(준중형), '중형': len(중형), '스포츠카': len(스포츠카), '버스': len(버스),\n",
    "           'RV': len(RV), '특수': len(특수)}\n",
    "len_dic"
   ]
  },
  {
   "cell_type": "code",
   "execution_count": 23,
   "metadata": {},
   "outputs": [
    {
     "data": {
      "text/plain": [
       "Index(['SEQ', 'MNAME', 'PRICE', 'MYERAR', 'MILEAGE', 'DISP', 'VTYPE', 'CU_HIS',\n",
       "       'MVD_HIS', 'AVD_HIS', 'FD_HIS', 'VT_HIS', 'US_HIS', 'MANUF'],\n",
       "      dtype='object')"
      ]
     },
     "execution_count": 23,
     "metadata": {},
     "output_type": "execute_result"
    }
   ],
   "source": [
    "processed_df.columns"
   ]
  },
  {
   "cell_type": "code",
   "execution_count": 24,
   "metadata": {},
   "outputs": [],
   "source": [
    "대형.to_csv('원데이터.csv')"
   ]
  },
  {
   "cell_type": "markdown",
   "metadata": {},
   "source": [
    "3) 모델링"
   ]
  },
  {
   "cell_type": "code",
   "execution_count": 37,
   "metadata": {},
   "outputs": [
    {
     "name": "stdout",
     "output_type": "stream",
     "text": [
      "Mean Squared Error: 168460.64872166666\n",
      "상위 9개 특성:\n",
      "1. MYERAR - 0.611\n",
      "2. DISP - 0.198\n",
      "3. CU_HIS - 0.093\n",
      "4. MILEAGE - 0.061\n",
      "5. US_HIS - 0.037\n",
      "6. VT_HIS - 0.000\n",
      "7. FD_HIS - 0.000\n",
      "8. AVD_HIS - 0.000\n",
      "9. MVD_HIS - 0.000\n"
     ]
    },
    {
     "name": "stderr",
     "output_type": "stream",
     "text": [
      "C:\\Users\\CHK\\AppData\\Local\\Temp\\ipykernel_3608\\3357190148.py:41: UserWarning: Glyph 49345 (\\N{HANGUL SYLLABLE SANG}) missing from current font.\n",
      "  plt.tight_layout()\n",
      "C:\\Users\\CHK\\AppData\\Local\\Temp\\ipykernel_3608\\3357190148.py:41: UserWarning: Glyph 50948 (\\N{HANGUL SYLLABLE WI}) missing from current font.\n",
      "  plt.tight_layout()\n",
      "C:\\Users\\CHK\\AppData\\Local\\Temp\\ipykernel_3608\\3357190148.py:41: UserWarning: Glyph 44060 (\\N{HANGUL SYLLABLE GAE}) missing from current font.\n",
      "  plt.tight_layout()\n",
      "C:\\Users\\CHK\\AppData\\Local\\Temp\\ipykernel_3608\\3357190148.py:41: UserWarning: Glyph 53945 (\\N{HANGUL SYLLABLE TEUG}) missing from current font.\n",
      "  plt.tight_layout()\n",
      "C:\\Users\\CHK\\AppData\\Local\\Temp\\ipykernel_3608\\3357190148.py:41: UserWarning: Glyph 49457 (\\N{HANGUL SYLLABLE SEONG}) missing from current font.\n",
      "  plt.tight_layout()\n",
      "C:\\Users\\CHK\\AppData\\Local\\Temp\\ipykernel_3608\\3357190148.py:41: UserWarning: Glyph 51473 (\\N{HANGUL SYLLABLE JUNG}) missing from current font.\n",
      "  plt.tight_layout()\n",
      "C:\\Users\\CHK\\AppData\\Local\\Temp\\ipykernel_3608\\3357190148.py:41: UserWarning: Glyph 50836 (\\N{HANGUL SYLLABLE YO}) missing from current font.\n",
      "  plt.tight_layout()\n",
      "C:\\Users\\CHK\\AppData\\Local\\Temp\\ipykernel_3608\\3357190148.py:41: UserWarning: Glyph 46020 (\\N{HANGUL SYLLABLE DO}) missing from current font.\n",
      "  plt.tight_layout()\n",
      "c:\\Users\\CHK\\Desktop\\Final_Project\\.venv\\lib\\site-packages\\IPython\\core\\pylabtools.py:152: UserWarning: Glyph 49345 (\\N{HANGUL SYLLABLE SANG}) missing from current font.\n",
      "  fig.canvas.print_figure(bytes_io, **kw)\n",
      "c:\\Users\\CHK\\Desktop\\Final_Project\\.venv\\lib\\site-packages\\IPython\\core\\pylabtools.py:152: UserWarning: Glyph 50948 (\\N{HANGUL SYLLABLE WI}) missing from current font.\n",
      "  fig.canvas.print_figure(bytes_io, **kw)\n",
      "c:\\Users\\CHK\\Desktop\\Final_Project\\.venv\\lib\\site-packages\\IPython\\core\\pylabtools.py:152: UserWarning: Glyph 44060 (\\N{HANGUL SYLLABLE GAE}) missing from current font.\n",
      "  fig.canvas.print_figure(bytes_io, **kw)\n",
      "c:\\Users\\CHK\\Desktop\\Final_Project\\.venv\\lib\\site-packages\\IPython\\core\\pylabtools.py:152: UserWarning: Glyph 53945 (\\N{HANGUL SYLLABLE TEUG}) missing from current font.\n",
      "  fig.canvas.print_figure(bytes_io, **kw)\n",
      "c:\\Users\\CHK\\Desktop\\Final_Project\\.venv\\lib\\site-packages\\IPython\\core\\pylabtools.py:152: UserWarning: Glyph 49457 (\\N{HANGUL SYLLABLE SEONG}) missing from current font.\n",
      "  fig.canvas.print_figure(bytes_io, **kw)\n",
      "c:\\Users\\CHK\\Desktop\\Final_Project\\.venv\\lib\\site-packages\\IPython\\core\\pylabtools.py:152: UserWarning: Glyph 51473 (\\N{HANGUL SYLLABLE JUNG}) missing from current font.\n",
      "  fig.canvas.print_figure(bytes_io, **kw)\n",
      "c:\\Users\\CHK\\Desktop\\Final_Project\\.venv\\lib\\site-packages\\IPython\\core\\pylabtools.py:152: UserWarning: Glyph 50836 (\\N{HANGUL SYLLABLE YO}) missing from current font.\n",
      "  fig.canvas.print_figure(bytes_io, **kw)\n",
      "c:\\Users\\CHK\\Desktop\\Final_Project\\.venv\\lib\\site-packages\\IPython\\core\\pylabtools.py:152: UserWarning: Glyph 46020 (\\N{HANGUL SYLLABLE DO}) missing from current font.\n",
      "  fig.canvas.print_figure(bytes_io, **kw)\n"
     ]
    },
    {
     "data": {
      "image/png": "[encoded data removed]",
      "text/plain": [
       "<Figure size 1000x600 with 1 Axes>"
      ]
     },
     "metadata": {},
     "output_type": "display_data"
    }
   ],
   "source": [
    "from sklearn.model_selection import train_test_split\n",
    "from xgboost import XGBRegressor\n",
    "from sklearn.metrics import mean_squared_error\n",
    "import numpy as np\n",
    "import matplotlib.pyplot as plt\n",
    "\n",
    "# 특성(feature)과 타겟 변수(target)로 데이터를 나눕니다.\n",
    "X = SUV.drop(columns=['SEQ', 'PRICE', 'MNAME', 'VTYPE', 'MANUF'])\n",
    "y = SUV['PRICE']\n",
    "\n",
    "# 훈련 세트와 테스트 세트로 데이터를 나눕니다.\n",
    "X_train, X_test, y_train, y_test = train_test_split(X, y, test_size=0.2, random_state=42)\n",
    "\n",
    "# XGBoost 회귀 모델을 생성합니다.\n",
    "model = XGBRegressor()\n",
    "\n",
    "# 모델을 훈련합니다.\n",
    "model.fit(X_train, y_train)\n",
    "\n",
    "# 테스트 세트로 모델을 평가합니다.\n",
    "y_pred = model.predict(X_test)\n",
    "mse = mean_squared_error(y_test, y_pred)\n",
    "print(\"Mean Squared Error:\", mse)\n",
    "\n",
    "importances = model.feature_importances_\n",
    "\n",
    "# 중요도를 기준으로 내림차순 정렬하여 인덱스를 얻음\n",
    "indices = np.argsort(importances)[::-1]\n",
    "\n",
    "# 상위 10개 특성의 중요도와 이름 출력\n",
    "top_features = 9\n",
    "print(\"상위 {}개 특성:\".format(top_features))\n",
    "for i in range(top_features):\n",
    "    print(\"{}. {} - {:.3f}\".format(i + 1, X_train.columns[indices[i]], importances[indices[i]]))\n",
    "\n",
    "# 특성 중요도 시각화\n",
    "plt.figure(figsize=(10, 6))\n",
    "plt.title(\"상위 {}개 특성 중요도\".format(top_features))\n",
    "plt.bar(range(top_features), importances[indices[:top_features]], align=\"center\")\n",
    "plt.xticks(range(top_features), X_train.columns[indices[:top_features]], rotation=45, ha=\"right\")\n",
    "plt.tight_layout()\n",
    "plt.show()"
   ]
  },
  {
   "cell_type": "code",
   "execution_count": 25,
   "metadata": {},
   "outputs": [],
   "source": [
    "from sklearn.model_selection import train_test_split\n",
    "from xgboost import XGBRegressor\n",
    "from sklearn.metrics import mean_squared_error\n",
    "\n",
    "# 특성(feature)과 타겟 변수(target)로 데이터를 나눕니다.\n",
    "X = 대형.drop(columns=['SEQ', 'PRICE', 'MNAME', 'VTYPE', 'MANUF'])\n",
    "y = 대형['PRICE']\n",
    "\n",
    "# 훈련 세트와 테스트 세트로 데이터를 나눕니다.\n",
    "X_train, X_test, y_train, y_test = train_test_split(X, y, test_size=0.2, random_state=42)\n"
   ]
  },
  {
   "cell_type": "code",
   "execution_count": 26,
   "metadata": {},
   "outputs": [
    {
     "name": "stdout",
     "output_type": "stream",
     "text": [
      "Mean Squared Error: 263016.6384863949\n",
      "      Actual    Predicted\n",
      "3335     959   996.094177\n",
      "7920     340   354.780975\n",
      "2638    1190  1227.517456\n",
      "2480    1360  1365.899048\n",
      "4412    1950  2018.957886\n",
      "...      ...          ...\n",
      "6325     420    55.964874\n",
      "1556    1300  1298.349121\n",
      "917     1750  1491.904297\n",
      "1564    1080  1127.237427\n",
      "4687     550   554.742065\n",
      "\n",
      "[327 rows x 2 columns]\n"
     ]
    }
   ],
   "source": [
    "# XGBoost 회귀 모델을 생성합니다.\n",
    "model = XGBRegressor()\n",
    "\n",
    "# 모델을 훈련합니다.\n",
    "model.fit(X_train, y_train)\n",
    "\n",
    "# 테스트 세트로 모델을 평가합니다.\n",
    "y_pred = model.predict(X_test)\n",
    "mse = mean_squared_error(y_test, y_pred)\n",
    "print(\"Mean Squared Error:\", mse)\n",
    "\n",
    "# 테스트 데이터셋에 대한 예측 수행\n",
    "y_pred = model.predict(X_test)\n",
    "\n",
    "# 실제값과 예측값 동시 출력\n",
    "results = pd.DataFrame({'Actual': y_test, 'Predicted': y_pred})\n",
    "print(results)\n"
   ]
  },
  {
   "cell_type": "code",
   "execution_count": 27,
   "metadata": {},
   "outputs": [
    {
     "name": "stdout",
     "output_type": "stream",
     "text": [
      "      Actual    Predicted\n",
      "3335     959   996.094177\n",
      "7920     340   354.780975\n",
      "2638    1190  1227.517456\n",
      "2480    1360  1365.899048\n",
      "4412    1950  2018.957886\n",
      "...      ...          ...\n",
      "6325     420    55.964874\n",
      "1556    1300  1298.349121\n",
      "917     1750  1491.904297\n",
      "1564    1080  1127.237427\n",
      "4687     550   554.742065\n",
      "\n",
      "[327 rows x 2 columns]\n"
     ]
    }
   ],
   "source": [
    "# 테스트 데이터셋에 대한 예측 수행\n",
    "y_pred = model.predict(X_test)\n",
    "\n",
    "# 실제값과 예측값 동시 출력\n",
    "results = pd.DataFrame({'Actual': y_test, 'Predicted': y_pred})\n",
    "print(results)\n"
   ]
  },
  {
   "cell_type": "code",
   "execution_count": 45,
   "metadata": {},
   "outputs": [
    {
     "name": "stdout",
     "output_type": "stream",
     "text": [
      "   MYERAR  MILEAGE  DISP  CU_HIS  MVD_HIS  AVD_HIS  FD_HIS  VT_HIS  US_HIS\n",
      "0      10    90000  1995       1        0        0       0       0       5\n",
      "새로운 데이터에 대한 예측값: [1287.346]\n"
     ]
    }
   ],
   "source": [
    "import pandas as pd\n",
    "\n",
    "data = {\n",
    "    'MYERAR': [10],\n",
    "    'MILEAGE': [90000],\n",
    "    'DISP': [1995],\n",
    "    'CU_HIS': [1],\n",
    "    'MVD_HIS': [0],\n",
    "    'AVD_HIS': [0],\n",
    "    'FD_HIS': [0],\n",
    "    'VT_HIS': [0],\n",
    "    'US_HIS': [5],\n",
    "}\n",
    "\n",
    "df_similar = pd.DataFrame(data)\n",
    "print(df_similar)\n",
    "\n",
    "y_pred_new = model.predict(df_similar)\n",
    "\n",
    "# 예측값 출력\n",
    "print(\"새로운 데이터에 대한 예측값:\", y_pred_new)"
   ]
  },
  {
   "cell_type": "code",
   "execution_count": 34,
   "metadata": {},
   "outputs": [
    {
     "name": "stdout",
     "output_type": "stream",
     "text": [
      "상위 9개 특성:\n",
      "1. MYERAR - 0.586\n",
      "2. DISP - 0.248\n",
      "3. CU_HIS - 0.072\n",
      "4. MILEAGE - 0.057\n",
      "5. US_HIS - 0.037\n",
      "6. VT_HIS - 0.000\n",
      "7. FD_HIS - 0.000\n",
      "8. AVD_HIS - 0.000\n",
      "9. MVD_HIS - 0.000\n"
     ]
    },
    {
     "name": "stderr",
     "output_type": "stream",
     "text": [
      "C:\\Users\\CHK\\AppData\\Local\\Temp\\ipykernel_3608\\1658158163.py:21: UserWarning: Glyph 49345 (\\N{HANGUL SYLLABLE SANG}) missing from current font.\n",
      "  plt.tight_layout()\n",
      "C:\\Users\\CHK\\AppData\\Local\\Temp\\ipykernel_3608\\1658158163.py:21: UserWarning: Glyph 50948 (\\N{HANGUL SYLLABLE WI}) missing from current font.\n",
      "  plt.tight_layout()\n",
      "C:\\Users\\CHK\\AppData\\Local\\Temp\\ipykernel_3608\\1658158163.py:21: UserWarning: Glyph 44060 (\\N{HANGUL SYLLABLE GAE}) missing from current font.\n",
      "  plt.tight_layout()\n",
      "C:\\Users\\CHK\\AppData\\Local\\Temp\\ipykernel_3608\\1658158163.py:21: UserWarning: Glyph 53945 (\\N{HANGUL SYLLABLE TEUG}) missing from current font.\n",
      "  plt.tight_layout()\n",
      "C:\\Users\\CHK\\AppData\\Local\\Temp\\ipykernel_3608\\1658158163.py:21: UserWarning: Glyph 49457 (\\N{HANGUL SYLLABLE SEONG}) missing from current font.\n",
      "  plt.tight_layout()\n",
      "C:\\Users\\CHK\\AppData\\Local\\Temp\\ipykernel_3608\\1658158163.py:21: UserWarning: Glyph 51473 (\\N{HANGUL SYLLABLE JUNG}) missing from current font.\n",
      "  plt.tight_layout()\n",
      "C:\\Users\\CHK\\AppData\\Local\\Temp\\ipykernel_3608\\1658158163.py:21: UserWarning: Glyph 50836 (\\N{HANGUL SYLLABLE YO}) missing from current font.\n",
      "  plt.tight_layout()\n",
      "C:\\Users\\CHK\\AppData\\Local\\Temp\\ipykernel_3608\\1658158163.py:21: UserWarning: Glyph 46020 (\\N{HANGUL SYLLABLE DO}) missing from current font.\n",
      "  plt.tight_layout()\n",
      "c:\\Users\\CHK\\Desktop\\Final_Project\\.venv\\lib\\site-packages\\IPython\\core\\pylabtools.py:152: UserWarning: Glyph 49345 (\\N{HANGUL SYLLABLE SANG}) missing from current font.\n",
      "  fig.canvas.print_figure(bytes_io, **kw)\n",
      "c:\\Users\\CHK\\Desktop\\Final_Project\\.venv\\lib\\site-packages\\IPython\\core\\pylabtools.py:152: UserWarning: Glyph 50948 (\\N{HANGUL SYLLABLE WI}) missing from current font.\n",
      "  fig.canvas.print_figure(bytes_io, **kw)\n",
      "c:\\Users\\CHK\\Desktop\\Final_Project\\.venv\\lib\\site-packages\\IPython\\core\\pylabtools.py:152: UserWarning: Glyph 44060 (\\N{HANGUL SYLLABLE GAE}) missing from current font.\n",
      "  fig.canvas.print_figure(bytes_io, **kw)\n",
      "c:\\Users\\CHK\\Desktop\\Final_Project\\.venv\\lib\\site-packages\\IPython\\core\\pylabtools.py:152: UserWarning: Glyph 53945 (\\N{HANGUL SYLLABLE TEUG}) missing from current font.\n",
      "  fig.canvas.print_figure(bytes_io, **kw)\n",
      "c:\\Users\\CHK\\Desktop\\Final_Project\\.venv\\lib\\site-packages\\IPython\\core\\pylabtools.py:152: UserWarning: Glyph 49457 (\\N{HANGUL SYLLABLE SEONG}) missing from current font.\n",
      "  fig.canvas.print_figure(bytes_io, **kw)\n",
      "c:\\Users\\CHK\\Desktop\\Final_Project\\.venv\\lib\\site-packages\\IPython\\core\\pylabtools.py:152: UserWarning: Glyph 51473 (\\N{HANGUL SYLLABLE JUNG}) missing from current font.\n",
      "  fig.canvas.print_figure(bytes_io, **kw)\n",
      "c:\\Users\\CHK\\Desktop\\Final_Project\\.venv\\lib\\site-packages\\IPython\\core\\pylabtools.py:152: UserWarning: Glyph 50836 (\\N{HANGUL SYLLABLE YO}) missing from current font.\n",
      "  fig.canvas.print_figure(bytes_io, **kw)\n",
      "c:\\Users\\CHK\\Desktop\\Final_Project\\.venv\\lib\\site-packages\\IPython\\core\\pylabtools.py:152: UserWarning: Glyph 46020 (\\N{HANGUL SYLLABLE DO}) missing from current font.\n",
      "  fig.canvas.print_figure(bytes_io, **kw)\n"
     ]
    },
    {
     "data": {
      "image/png": "[encoded data removed]",
      "text/plain": [
       "<Figure size 1000x600 with 1 Axes>"
      ]
     },
     "metadata": {},
     "output_type": "display_data"
    }
   ],
   "source": [
    "import xgboost as xgb\n",
    "import matplotlib.pyplot as plt\n",
    "import numpy as np\n",
    "\n",
    "importances = model.feature_importances_\n",
    "\n",
    "# 중요도를 기준으로 내림차순 정렬하여 인덱스를 얻음\n",
    "indices = np.argsort(importances)[::-1]\n",
    "\n",
    "# 상위 10개 특성의 중요도와 이름 출력\n",
    "top_features = 9\n",
    "print(\"상위 {}개 특성:\".format(top_features))\n",
    "for i in range(top_features):\n",
    "    print(\"{}. {} - {:.3f}\".format(i + 1, X_train.columns[indices[i]], importances[indices[i]]))\n",
    "\n",
    "# 특성 중요도 시각화\n",
    "plt.figure(figsize=(10, 6))\n",
    "plt.title(\"상위 {}개 특성 중요도\".format(top_features))\n",
    "plt.bar(range(top_features), importances[indices[:top_features]], align=\"center\")\n",
    "plt.xticks(range(top_features), X_train.columns[indices[:top_features]], rotation=45, ha=\"right\")\n",
    "plt.tight_layout()\n",
    "plt.show()"
   ]
  }
 ],
 "metadata": {
  "kernelspec": {
   "display_name": ".venv",
   "language": "python",
   "name": "python3"
  },
  "language_info": {
   "codemirror_mode": {
    "name": "ipython",
    "version": 3
   },
   "file_extension": ".py",
   "mimetype": "text/x-python",
   "name": "python",
   "nbconvert_exporter": "python",
   "pygments_lexer": "ipython3",
   "version": "3.10.10"
  }
 },
 "nbformat": 4,
 "nbformat_minor": 2
}
