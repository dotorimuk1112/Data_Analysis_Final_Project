{
 "cells": [
  {
   "cell_type": "code",
   "execution_count": 1,
   "metadata": {},
   "outputs": [],
   "source": [
    "import pandas as pd\n",
    "df = pd.read_csv('C:/Users/CHK/Desktop/Final_Project/data/edu_data_F.csv')\n",
    "mean_result = df.groupby('SEQ')[['INTERIOR_AM', 'INSUHOS_AM', 'OFFEDU_AM', 'TRVLEC_AM', \n",
    "                            'FSBZ_AM', 'SVCARC_AM', 'DIST_AM', 'PLSANIT_AM', \n",
    "                            'CLOTHGDS_AM', 'AUTO_AM']].mean().reset_index()"
   ]
  },
  {
   "cell_type": "code",
   "execution_count": 2,
   "metadata": {},
   "outputs": [],
   "source": [
    "mean_result.iloc[:, 1:] = mean_result.iloc[:, 1:] * (1/3)"
   ]
  },
  {
   "cell_type": "code",
   "execution_count": 3,
   "metadata": {},
   "outputs": [],
   "source": [
    "mean_result.to_csv('월 평균 분야별 카드 사용액.csv')"
   ]
  },
  {
   "cell_type": "code",
   "execution_count": 4,
   "metadata": {},
   "outputs": [],
   "source": [
    "mean_df = pd.read_csv('월 평균 분야별 카드 사용액.csv')"
   ]
  },
  {
   "cell_type": "code",
   "execution_count": 7,
   "metadata": {},
   "outputs": [
    {
     "data": {
      "text/html": [
       "<div>\n",
       "<style scoped>\n",
       "    .dataframe tbody tr th:only-of-type {\n",
       "        vertical-align: middle;\n",
       "    }\n",
       "\n",
       "    .dataframe tbody tr th {\n",
       "        vertical-align: top;\n",
       "    }\n",
       "\n",
       "    .dataframe thead th {\n",
       "        text-align: right;\n",
       "    }\n",
       "</style>\n",
       "<table border=\"1\" class=\"dataframe\">\n",
       "  <thead>\n",
       "    <tr style=\"text-align: right;\">\n",
       "      <th></th>\n",
       "      <th>Unnamed: 0</th>\n",
       "      <th>SEQ</th>\n",
       "      <th>INTERIOR_AM</th>\n",
       "      <th>INSUHOS_AM</th>\n",
       "      <th>OFFEDU_AM</th>\n",
       "      <th>TRVLEC_AM</th>\n",
       "      <th>FSBZ_AM</th>\n",
       "      <th>SVCARC_AM</th>\n",
       "      <th>DIST_AM</th>\n",
       "      <th>PLSANIT_AM</th>\n",
       "      <th>CLOTHGDS_AM</th>\n",
       "      <th>AUTO_AM</th>\n",
       "    </tr>\n",
       "  </thead>\n",
       "  <tbody>\n",
       "    <tr>\n",
       "      <th>0</th>\n",
       "      <td>0</td>\n",
       "      <td>00011N2I1MX4X9NQ16C0</td>\n",
       "      <td>0.0</td>\n",
       "      <td>0.000000</td>\n",
       "      <td>0.00</td>\n",
       "      <td>0.000000</td>\n",
       "      <td>13.333333</td>\n",
       "      <td>0.000000</td>\n",
       "      <td>49.523810</td>\n",
       "      <td>0.000000</td>\n",
       "      <td>0.000000</td>\n",
       "      <td>1.904762</td>\n",
       "    </tr>\n",
       "    <tr>\n",
       "      <th>1</th>\n",
       "      <td>1</td>\n",
       "      <td>0003UZ715F1AVTCFVTLJ</td>\n",
       "      <td>0.0</td>\n",
       "      <td>28.750000</td>\n",
       "      <td>26.25</td>\n",
       "      <td>2.083333</td>\n",
       "      <td>18.333333</td>\n",
       "      <td>3.750000</td>\n",
       "      <td>132.500000</td>\n",
       "      <td>1.666667</td>\n",
       "      <td>0.416667</td>\n",
       "      <td>0.000000</td>\n",
       "    </tr>\n",
       "    <tr>\n",
       "      <th>2</th>\n",
       "      <td>2</td>\n",
       "      <td>0005S4MIPCAD7O9L801P</td>\n",
       "      <td>0.0</td>\n",
       "      <td>0.000000</td>\n",
       "      <td>0.00</td>\n",
       "      <td>0.000000</td>\n",
       "      <td>1.111111</td>\n",
       "      <td>0.000000</td>\n",
       "      <td>38.888889</td>\n",
       "      <td>0.000000</td>\n",
       "      <td>0.000000</td>\n",
       "      <td>0.000000</td>\n",
       "    </tr>\n",
       "    <tr>\n",
       "      <th>3</th>\n",
       "      <td>3</td>\n",
       "      <td>000C4EHXNK4O3VQRPMG3</td>\n",
       "      <td>0.0</td>\n",
       "      <td>1.666667</td>\n",
       "      <td>0.00</td>\n",
       "      <td>0.000000</td>\n",
       "      <td>3.333333</td>\n",
       "      <td>0.000000</td>\n",
       "      <td>1.666667</td>\n",
       "      <td>0.000000</td>\n",
       "      <td>0.000000</td>\n",
       "      <td>0.000000</td>\n",
       "    </tr>\n",
       "    <tr>\n",
       "      <th>4</th>\n",
       "      <td>4</td>\n",
       "      <td>000FQ6EU9C0VJG9ECRUV</td>\n",
       "      <td>0.0</td>\n",
       "      <td>0.000000</td>\n",
       "      <td>0.00</td>\n",
       "      <td>45.000000</td>\n",
       "      <td>1.250000</td>\n",
       "      <td>24.166667</td>\n",
       "      <td>0.833333</td>\n",
       "      <td>0.000000</td>\n",
       "      <td>0.000000</td>\n",
       "      <td>0.000000</td>\n",
       "    </tr>\n",
       "  </tbody>\n",
       "</table>\n",
       "</div>"
      ],
      "text/plain": [
       "   Unnamed: 0                   SEQ  INTERIOR_AM  INSUHOS_AM  OFFEDU_AM  \\\n",
       "0           0  00011N2I1MX4X9NQ16C0          0.0    0.000000       0.00   \n",
       "1           1  0003UZ715F1AVTCFVTLJ          0.0   28.750000      26.25   \n",
       "2           2  0005S4MIPCAD7O9L801P          0.0    0.000000       0.00   \n",
       "3           3  000C4EHXNK4O3VQRPMG3          0.0    1.666667       0.00   \n",
       "4           4  000FQ6EU9C0VJG9ECRUV          0.0    0.000000       0.00   \n",
       "\n",
       "   TRVLEC_AM    FSBZ_AM  SVCARC_AM     DIST_AM  PLSANIT_AM  CLOTHGDS_AM  \\\n",
       "0   0.000000  13.333333   0.000000   49.523810    0.000000     0.000000   \n",
       "1   2.083333  18.333333   3.750000  132.500000    1.666667     0.416667   \n",
       "2   0.000000   1.111111   0.000000   38.888889    0.000000     0.000000   \n",
       "3   0.000000   3.333333   0.000000    1.666667    0.000000     0.000000   \n",
       "4  45.000000   1.250000  24.166667    0.833333    0.000000     0.000000   \n",
       "\n",
       "    AUTO_AM  \n",
       "0  1.904762  \n",
       "1  0.000000  \n",
       "2  0.000000  \n",
       "3  0.000000  \n",
       "4  0.000000  "
      ]
     },
     "execution_count": 7,
     "metadata": {},
     "output_type": "execute_result"
    }
   ],
   "source": [
    "mean_df.head()"
   ]
  },
  {
   "cell_type": "code",
   "execution_count": 8,
   "metadata": {},
   "outputs": [
    {
     "data": {
      "text/plain": [
       "Index(['Unnamed: 0', 'SEQ', 'INTERIOR_AM', 'INSUHOS_AM', 'OFFEDU_AM',\n",
       "       'TRVLEC_AM', 'FSBZ_AM', 'SVCARC_AM', 'DIST_AM', 'PLSANIT_AM',\n",
       "       'CLOTHGDS_AM', 'AUTO_AM', 'CAR_PRICE'],\n",
       "      dtype='object')"
      ]
     },
     "execution_count": 8,
     "metadata": {},
     "output_type": "execute_result"
    }
   ],
   "source": [
    "# mean_df.drop('Unnamed: 0', axis=1, inplace=True)\n",
    "mean_df['CAR_PRICE'] = 0\n",
    "mean_df.columns"
   ]
  },
  {
   "cell_type": "code",
   "execution_count": 9,
   "metadata": {},
   "outputs": [],
   "source": [
    "mean_df = mean_df.drop(columns=['SEQ', 'AUTO_AM'])"
   ]
  },
  {
   "cell_type": "code",
   "execution_count": 10,
   "metadata": {},
   "outputs": [],
   "source": [
    "mean_df = mean_df.drop(columns=['Unnamed: 0'])"
   ]
  },
  {
   "cell_type": "code",
   "execution_count": 11,
   "metadata": {},
   "outputs": [
    {
     "name": "stdout",
     "output_type": "stream",
     "text": [
      "   INTERIOR_AM  INSUHOS_AM  OFFEDU_AM  TRVLEC_AM    FSBZ_AM  SVCARC_AM  \\\n",
      "0          0.0    0.000000       0.00   0.000000  13.333333   0.000000   \n",
      "1          0.0   28.750000      26.25   2.083333  18.333333   3.750000   \n",
      "2          0.0    0.000000       0.00   0.000000   1.111111   0.000000   \n",
      "3          0.0    1.666667       0.00   0.000000   3.333333   0.000000   \n",
      "4          0.0    0.000000       0.00  45.000000   1.250000  24.166667   \n",
      "\n",
      "      DIST_AM  PLSANIT_AM  CLOTHGDS_AM    CAR_PRICE  \n",
      "0   49.523810    0.000000     0.000000  1251.385080  \n",
      "1  132.500000    1.666667     0.416667  3826.403772  \n",
      "2   38.888889    0.000000     0.000000   741.064707  \n",
      "3    1.666667    0.000000     0.000000   228.571498  \n",
      "4    0.833333    0.000000     0.000000  1303.217335  \n"
     ]
    }
   ],
   "source": [
    "import numpy as np\n",
    "\n",
    "# Generate random weights for each column\n",
    "weights = {\n",
    "    'INTERIOR_AM': np.random.uniform(10, 30),\n",
    "    'INSUHOS_AM': np.random.uniform(10, 30),\n",
    "    'OFFEDU_AM': np.random.uniform(10, 30),\n",
    "    'TRVLEC_AM': np.random.uniform(10, 30),\n",
    "    'FSBZ_AM': np.random.uniform(10, 30),\n",
    "    'SVCARC_AM': np.random.uniform(10, 30),\n",
    "    'DIST_AM': np.random.uniform(10, 30),\n",
    "    'PLSANIT_AM': np.random.uniform(10, 30),\n",
    "    'CLOTHGDS_AM': np.random.uniform(10, 30),\n",
    "}\n",
    "\n",
    "# Apply weights to each column and calculate CAR_PRICE\n",
    "mean_df['CAR_PRICE'] = mean_df.drop(columns=['CAR_PRICE']).mul(weights).sum(axis=1)\n",
    "\n",
    "# Generate random biases for each row\n",
    "biases = np.random.uniform(-100, 100, size=len(mean_df))\n",
    "\n",
    "# Add biases to CAR_PRICE\n",
    "mean_df['CAR_PRICE'] += biases\n",
    "\n",
    "mean_df['CAR_PRICE'] = mean_df['CAR_PRICE'].apply(lambda x: 0 if x < 50 else x)\n",
    "\n",
    "print(mean_df.head())"
   ]
  },
  {
   "cell_type": "code",
   "execution_count": 12,
   "metadata": {},
   "outputs": [
    {
     "data": {
      "text/plain": [
       "count    892997.000000\n",
       "mean       1530.247524\n",
       "std        1592.949312\n",
       "min           0.000000\n",
       "25%         393.979460\n",
       "50%        1033.531364\n",
       "75%        2101.710172\n",
       "max       14801.650330\n",
       "Name: CAR_PRICE, dtype: float64"
      ]
     },
     "execution_count": 12,
     "metadata": {},
     "output_type": "execute_result"
    }
   ],
   "source": [
    "mean_df['CAR_PRICE'].describe()"
   ]
  },
  {
   "cell_type": "code",
   "execution_count": 13,
   "metadata": {},
   "outputs": [
    {
     "data": {
      "text/plain": [
       "41806"
      ]
     },
     "execution_count": 13,
     "metadata": {},
     "output_type": "execute_result"
    }
   ],
   "source": [
    "len(mean_df[mean_df['CAR_PRICE']==0])"
   ]
  },
  {
   "cell_type": "code",
   "execution_count": 14,
   "metadata": {},
   "outputs": [
    {
     "data": {
      "text/plain": [
       "Index(['INTERIOR_AM', 'INSUHOS_AM', 'OFFEDU_AM', 'TRVLEC_AM', 'FSBZ_AM',\n",
       "       'SVCARC_AM', 'DIST_AM', 'PLSANIT_AM', 'CLOTHGDS_AM', 'CAR_PRICE'],\n",
       "      dtype='object')"
      ]
     },
     "execution_count": 14,
     "metadata": {},
     "output_type": "execute_result"
    }
   ],
   "source": [
    "mean_df.columns"
   ]
  },
  {
   "cell_type": "markdown",
   "metadata": {},
   "source": [
    "# ■ 모델링"
   ]
  },
  {
   "cell_type": "code",
   "execution_count": 15,
   "metadata": {},
   "outputs": [
    {
     "name": "stdout",
     "output_type": "stream",
     "text": [
      "train set: 714397 | test set: 178600\n",
      "Mean Squared Error: 8788.442311605208\n",
      "Mean Squared Error: 71.0698875432767\n"
     ]
    }
   ],
   "source": [
    "import xgboost as xgb\n",
    "from sklearn.model_selection import train_test_split\n",
    "from sklearn.metrics import mean_squared_error\n",
    "from sklearn.metrics import mean_absolute_error\n",
    "\n",
    "# Drop 'SEQ' and 'CAR_PRICE' columns to create X\n",
    "X = mean_df.drop(columns=['CAR_PRICE'])\n",
    "\n",
    "# Define the target variable\n",
    "y = mean_df['CAR_PRICE']\n",
    "\n",
    "# Split the data into training and testing sets\n",
    "X_train, X_test, y_train, y_test = train_test_split(X, y, test_size=0.2, random_state=42)\n",
    "print(\"train set:\", len(X_train), \"|\", \"test set:\", len(X_test))\n",
    "# Instantiate XGBRegressor\n",
    "model = xgb.XGBRegressor()\n",
    "\n",
    "# Train the model\n",
    "model.fit(X_train, y_train)\n",
    "\n",
    "# Predict on the test set\n",
    "y_pred = model.predict(X_test)\n",
    "\n",
    "# Evaluate the model\n",
    "mse = mean_squared_error(y_test, y_pred)\n",
    "mae = mean_absolute_error(y_test, y_pred)\n",
    "print(\"Mean Squared Error:\", mse)\n",
    "print(\"Mean Squared Error:\", mae)"
   ]
  },
  {
   "cell_type": "code",
   "execution_count": 48,
   "metadata": {},
   "outputs": [
    {
     "name": "stdout",
     "output_type": "stream",
     "text": [
      "                 실제값    예측값  최소 오차 범위  최대 오차 범위  예측값 범위 포함 여부\n",
      "457038   2399.458549   2241      2094      2389          True\n",
      "126584   1029.784547   1053       906      1201          True\n",
      "804004    849.056368    723       575       870          True\n",
      "373087  20414.584345  19697     19550     19845          True\n",
      "115772   1832.020454   1962      1814      2109          True\n",
      "...              ...    ...       ...       ...           ...\n",
      "146302  13799.849542  13672     13524     13819          True\n",
      "594586   2384.538078   2333      2186      2480          True\n",
      "207710  11593.678276  11746     11598     11893          True\n",
      "822156   4147.175018   4134      3987      4282          True\n",
      "216127   3963.106643   4088      3941      4236          True\n",
      "\n",
      "[178600 rows x 5 columns]\n",
      "오차 범위 내에 포함된 예측의 수 178600\n",
      "오차 범위 내에 포함되지 않은 예측의 수 0\n"
     ]
    }
   ],
   "source": [
    "min_range = y_pred - mae\n",
    "max_range = y_pred + mae\n",
    "\n",
    "# 각 요소에 대한 최소 오차 범위 계산\n",
    "min_range_individual = np.where(min_range >= 0, min_range, 0)\n",
    "\n",
    "is_within_range = np.logical_and(y_pred > min_range, y_pred < max_range)\n",
    "\n",
    "result = pd.DataFrame({'실제값': y_test,\n",
    "                       '예측값': y_pred,\n",
    "                       '최소 오차 범위': min_range_individual,\n",
    "                       '최대 오차 범위': max_range,\n",
    "                       '예측값 범위 포함 여부': is_within_range})\n",
    "\n",
    "result[\"예측값\"] = result[\"예측값\"].astype(int)\n",
    "result[\"최소 오차 범위\"] = result[\"최소 오차 범위\"].astype(int)\n",
    "result[\"최대 오차 범위\"] = result[\"최대 오차 범위\"].astype(int)\n",
    "print(result)\n",
    "print(\"오차 범위 내에 포함된 예측의 수\", len(result[result['예측값 범위 포함 여부']==True]))\n",
    "print(\"오차 범위 내에 포함되지 않은 예측의 수\", len(result[result['예측값 범위 포함 여부']!=True]))"
   ]
  },
  {
   "cell_type": "code",
   "execution_count": 49,
   "metadata": {},
   "outputs": [],
   "source": [
    "result.to_csv('모델 결과.csv')"
   ]
  },
  {
   "cell_type": "code",
   "execution_count": 16,
   "metadata": {},
   "outputs": [],
   "source": [
    "import pickle\n",
    "\n",
    "# pkl 파일로 모델 리스트 저장\n",
    "with open('budget_recommend_models.pkl', 'wb') as f:\n",
    "    pickle.dump(model, f)"
   ]
  },
  {
   "cell_type": "code",
   "execution_count": 18,
   "metadata": {},
   "outputs": [
    {
     "data": {
      "text/plain": [
       "array(['INTERIOR_AM', 'INSUHOS_AM', 'OFFEDU_AM', 'TRVLEC_AM', 'FSBZ_AM',\n",
       "       'SVCARC_AM', 'DIST_AM', 'PLSANIT_AM', 'CLOTHGDS_AM'], dtype='<U11')"
      ]
     },
     "execution_count": 18,
     "metadata": {},
     "output_type": "execute_result"
    }
   ],
   "source": [
    "model.feature_names_in_"
   ]
  }
 ],
 "metadata": {
  "kernelspec": {
   "display_name": ".venv",
   "language": "python",
   "name": "python3"
  },
  "language_info": {
   "codemirror_mode": {
    "name": "ipython",
    "version": 3
   },
   "file_extension": ".py",
   "mimetype": "text/x-python",
   "name": "python",
   "nbconvert_exporter": "python",
   "pygments_lexer": "ipython3",
   "version": "3.10.10"
  }
 },
 "nbformat": 4,
 "nbformat_minor": 2
}
