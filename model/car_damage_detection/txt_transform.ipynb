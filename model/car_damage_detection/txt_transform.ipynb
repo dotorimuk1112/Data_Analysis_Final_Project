{
 "cells": [
  {
   "cell_type": "code",
   "execution_count": 1,
   "metadata": {},
   "outputs": [
    {
     "name": "stdout",
     "output_type": "stream",
     "text": [
      "파일 경로 변경이 완료되었습니다.\n"
     ]
    }
   ],
   "source": [
    "# 파일 경로 변경할 내용이 있는 텍스트 파일\n",
    "input_file = \"dataset(50000개)\\\\train.txt\"\n",
    "\n",
    "# 새로운 파일 경로\n",
    "new_prefix = \"/content/dataset/\"\n",
    "\n",
    "# 새로운 파일 경로로 변경한 결과를 저장할 파일\n",
    "output_file = \"train2.txt\"\n",
    "\n",
    "# 파일을 읽고 새로운 경로로 변경하여 쓰기\n",
    "with open(input_file, \"r\") as f_input, open(output_file, \"w\") as f_output:\n",
    "    for line in f_input:\n",
    "        old_path = line.strip()\n",
    "        # 기존 경로에서 파일명 추출\n",
    "        filename = old_path.split(\"/\")[-1]\n",
    "        # 새로운 경로와 파일명 합치기\n",
    "        new_path = new_prefix + filename\n",
    "        # 새로운 경로로 쓰기\n",
    "        f_output.write(new_path + \"\\n\")\n",
    "\n",
    "print(\"파일 경로 변경이 완료되었습니다.\")\n"
   ]
  },
  {
   "cell_type": "code",
   "execution_count": 3,
   "metadata": {},
   "outputs": [
    {
     "name": "stdout",
     "output_type": "stream",
     "text": [
      "파일 경로 변경이 완료되었습니다.\n"
     ]
    }
   ],
   "source": [
    "# 파일 경로 변경할 내용이 있는 텍스트 파일\n",
    "input_file = \"dataset(50000개)\\\\val.txt\"\n",
    "\n",
    "# 새로운 파일 경로\n",
    "new_prefix = \"/content/dataset/\"\n",
    "\n",
    "# 새로운 파일 경로로 변경한 결과를 저장할 파일\n",
    "output_file = \"val2.txt\"\n",
    "\n",
    "# 파일을 읽고 새로운 경로로 변경하여 쓰기\n",
    "with open(input_file, \"r\") as f_input, open(output_file, \"w\") as f_output:\n",
    "    for line in f_input:\n",
    "        old_path = line.strip()\n",
    "        # 기존 경로에서 파일명 추출\n",
    "        filename = old_path.split(\"/\")[-1]\n",
    "        # 새로운 경로와 파일명 합치기\n",
    "        new_path = new_prefix + filename\n",
    "        # 새로운 경로로 쓰기\n",
    "        f_output.write(new_path + \"\\n\")\n",
    "\n",
    "print(\"파일 경로 변경이 완료되었습니다.\")\n"
   ]
  }
 ],
 "metadata": {
  "kernelspec": {
   "display_name": "myenv",
   "language": "python",
   "name": "myenv"
  },
  "language_info": {
   "codemirror_mode": {
    "name": "ipython",
    "version": 3
   },
   "file_extension": ".py",
   "mimetype": "text/x-python",
   "name": "python",
   "nbconvert_exporter": "python",
   "pygments_lexer": "ipython3",
   "version": "3.11.5"
  }
 },
 "nbformat": 4,
 "nbformat_minor": 2
}
