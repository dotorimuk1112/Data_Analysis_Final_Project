{
 "cells": [
  {
   "cell_type": "code",
   "execution_count": 1,
   "metadata": {},
   "outputs": [
    {
     "ename": "FileNotFoundError",
     "evalue": "[Errno 2] No such file or directory: '/root/data/HK/dataset/train/train.txt'",
     "output_type": "error",
     "traceback": [
      "\u001b[1;31m---------------------------------------------------------------------------\u001b[0m",
      "\u001b[1;31mFileNotFoundError\u001b[0m                         Traceback (most recent call last)",
      "\u001b[1;32mc:\\Users\\CHK\\Desktop\\Final_Project\\car_damage_detection\\object_detection\\dd.ipynb 셀 1\u001b[0m line \u001b[0;36m1\n\u001b[0;32m      <a href='vscode-notebook-cell:/c%3A/Users/CHK/Desktop/Final_Project/car_damage_detection/object_detection/dd.ipynb#W0sZmlsZQ%3D%3D?line=7'>8</a>\u001b[0m new_prefix \u001b[39m=\u001b[39m \u001b[39m\"\u001b[39m\u001b[39m/content/drive/MyDrive/dataset/images/\u001b[39m\u001b[39m\"\u001b[39m\n\u001b[0;32m     <a href='vscode-notebook-cell:/c%3A/Users/CHK/Desktop/Final_Project/car_damage_detection/object_detection/dd.ipynb#W0sZmlsZQ%3D%3D?line=9'>10</a>\u001b[0m \u001b[39m# 텍스트 파일 열기\u001b[39;00m\n\u001b[1;32m---> <a href='vscode-notebook-cell:/c%3A/Users/CHK/Desktop/Final_Project/car_damage_detection/object_detection/dd.ipynb#W0sZmlsZQ%3D%3D?line=10'>11</a>\u001b[0m \u001b[39mwith\u001b[39;00m \u001b[39mopen\u001b[39;49m(input_txt_file, \u001b[39m'\u001b[39;49m\u001b[39mr\u001b[39;49m\u001b[39m'\u001b[39;49m) \u001b[39mas\u001b[39;00m f:\n\u001b[0;32m     <a href='vscode-notebook-cell:/c%3A/Users/CHK/Desktop/Final_Project/car_damage_detection/object_detection/dd.ipynb#W0sZmlsZQ%3D%3D?line=11'>12</a>\u001b[0m     lines \u001b[39m=\u001b[39m f\u001b[39m.\u001b[39mreadlines()\n\u001b[0;32m     <a href='vscode-notebook-cell:/c%3A/Users/CHK/Desktop/Final_Project/car_damage_detection/object_detection/dd.ipynb#W0sZmlsZQ%3D%3D?line=13'>14</a>\u001b[0m \u001b[39m# 새로운 텍스트 파일에 변경된 경로로 이미지 파일 경로 저장\u001b[39;00m\n",
      "File \u001b[1;32m~\\AppData\\Roaming\\Python\\Python310\\site-packages\\IPython\\core\\interactiveshell.py:310\u001b[0m, in \u001b[0;36m_modified_open\u001b[1;34m(file, *args, **kwargs)\u001b[0m\n\u001b[0;32m    303\u001b[0m \u001b[39mif\u001b[39;00m file \u001b[39min\u001b[39;00m {\u001b[39m0\u001b[39m, \u001b[39m1\u001b[39m, \u001b[39m2\u001b[39m}:\n\u001b[0;32m    304\u001b[0m     \u001b[39mraise\u001b[39;00m \u001b[39mValueError\u001b[39;00m(\n\u001b[0;32m    305\u001b[0m         \u001b[39mf\u001b[39m\u001b[39m\"\u001b[39m\u001b[39mIPython won\u001b[39m\u001b[39m'\u001b[39m\u001b[39mt let you open fd=\u001b[39m\u001b[39m{\u001b[39;00mfile\u001b[39m}\u001b[39;00m\u001b[39m by default \u001b[39m\u001b[39m\"\u001b[39m\n\u001b[0;32m    306\u001b[0m         \u001b[39m\"\u001b[39m\u001b[39mas it is likely to crash IPython. If you know what you are doing, \u001b[39m\u001b[39m\"\u001b[39m\n\u001b[0;32m    307\u001b[0m         \u001b[39m\"\u001b[39m\u001b[39myou can use builtins\u001b[39m\u001b[39m'\u001b[39m\u001b[39m open.\u001b[39m\u001b[39m\"\u001b[39m\n\u001b[0;32m    308\u001b[0m     )\n\u001b[1;32m--> 310\u001b[0m \u001b[39mreturn\u001b[39;00m io_open(file, \u001b[39m*\u001b[39margs, \u001b[39m*\u001b[39m\u001b[39m*\u001b[39mkwargs)\n",
      "\u001b[1;31mFileNotFoundError\u001b[0m: [Errno 2] No such file or directory: '/root/data/HK/dataset/train/train.txt'"
     ]
    }
   ],
   "source": [
    "# 기존 텍스트 파일 경로\n",
    "input_txt_file = \"train.txt\"\n",
    "\n",
    "# 새로운 텍스트 파일 경로\n",
    "output_txt_file = \"train2.txt\"\n",
    "\n",
    "# 변경할 경로의 접두사\n",
    "new_prefix = \"/content/drive/MyDrive/dataset/images/\"\n",
    "\n",
    "# 텍스트 파일 열기\n",
    "with open(input_txt_file, 'r') as f:\n",
    "    lines = f.readlines()\n",
    "\n",
    "# 새로운 텍스트 파일에 변경된 경로로 이미지 파일 경로 저장\n",
    "with open(output_txt_file, 'w') as f:\n",
    "    for line in lines:\n",
    "        # 이미지 파일 경로에서 기존 경로 부분을 새로운 경로로 변경\n",
    "        new_line = line.replace(\"/root/data/HK/dataset/train/images/\", new_prefix)\n",
    "        f.write(new_line)\n",
    "\n",
    "print(\"새로운 텍스트 파일이 생성되었습니다:\", output_txt_file)\n"
   ]
  }
 ],
 "metadata": {
  "kernelspec": {
   "display_name": "Python 3",
   "language": "python",
   "name": "python3"
  },
  "language_info": {
   "codemirror_mode": {
    "name": "ipython",
    "version": 3
   },
   "file_extension": ".py",
   "mimetype": "text/x-python",
   "name": "python",
   "nbconvert_exporter": "python",
   "pygments_lexer": "ipython3",
   "version": "3.10.10"
  }
 },
 "nbformat": 4,
 "nbformat_minor": 2
}
